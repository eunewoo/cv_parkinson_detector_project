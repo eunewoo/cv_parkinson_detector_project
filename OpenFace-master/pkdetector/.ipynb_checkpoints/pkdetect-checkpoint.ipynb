{
 "cells": [
  {
   "cell_type": "markdown",
   "metadata": {},
   "source": [
    "<h2>Import the necessary Library</h2>"
   ]
  },
  {
   "cell_type": "code",
   "execution_count": 11,
   "metadata": {},
   "outputs": [
    {
     "name": "stdout",
     "output_type": "stream",
     "text": [
      "Requirement already satisfied: imbalanced-learn in /Users/eunewoo/opt/anaconda3/lib/python3.9/site-packages (0.10.1)\n",
      "Requirement already satisfied: joblib>=1.1.1 in /Users/eunewoo/opt/anaconda3/lib/python3.9/site-packages (from imbalanced-learn) (1.2.0)\n",
      "Requirement already satisfied: threadpoolctl>=2.0.0 in /Users/eunewoo/opt/anaconda3/lib/python3.9/site-packages (from imbalanced-learn) (2.2.0)\n",
      "Requirement already satisfied: scikit-learn>=1.0.2 in /Users/eunewoo/opt/anaconda3/lib/python3.9/site-packages (from imbalanced-learn) (1.0.2)\n",
      "Requirement already satisfied: scipy>=1.3.2 in /Users/eunewoo/opt/anaconda3/lib/python3.9/site-packages (from imbalanced-learn) (1.7.3)\n",
      "Requirement already satisfied: numpy>=1.17.3 in /Users/eunewoo/opt/anaconda3/lib/python3.9/site-packages (from imbalanced-learn) (1.21.0)\n",
      "Requirement already satisfied: pickle5 in /Users/eunewoo/opt/anaconda3/lib/python3.9/site-packages (0.0.11)\n"
     ]
    }
   ],
   "source": [
    "!pip install imbalanced-learn\n",
    "!pip install pickle5"
   ]
  },
  {
   "cell_type": "code",
   "execution_count": null,
   "metadata": {},
   "outputs": [],
   "source": []
  },
  {
   "cell_type": "code",
   "execution_count": 1,
   "metadata": {},
   "outputs": [
    {
     "name": "stdout",
     "output_type": "stream",
     "text": [
      "pandas is already installed.\n",
      "numpy is already installed.\n",
      "matplotlib is already installed.\n",
      "scipy is already installed.\n",
      "pickle5 is already installed.\n",
      "sklearn is already installed.\n",
      "statsmodels is already installed.\n",
      "imbalanced-learn is already installed.\n"
     ]
    }
   ],
   "source": [
    "import subprocess\n",
    "import sys\n",
    "\n",
    "def install(package):\n",
    "    subprocess.check_call([sys.executable, \"-m\", \"pip\", \"install\", package])\n",
    "\n",
    "libraries = [\"pandas\", \"numpy\", \"matplotlib\", \"scipy\", \"pickle5\", \"sklearn\", \"statsmodels\", \"imbalanced-learn\"]\n",
    "\n",
    "for lib in libraries:\n",
    "    try:\n",
    "        dist = subprocess.check_output([sys.executable, \"-m\", \"pip\", \"show\", lib])\n",
    "        if dist == b'':\n",
    "            print(f\"{lib} is not installed. Installing now...\")\n",
    "            install(lib)\n",
    "        else:\n",
    "            print(f\"{lib} is already installed.\")\n",
    "    except Exception as e:\n",
    "        print(f\"An error occurred: {e}\")\n"
   ]
  },
  {
   "cell_type": "code",
   "execution_count": 5,
   "metadata": {},
   "outputs": [],
   "source": [
    "import pandas as pd\n",
    "import numpy as np\n",
    "import os\n",
    "import matplotlib.pyplot as plt\n",
    "import math,scipy\n",
    "import pickle\n",
    "from scipy.stats import mannwhitneyu, ttest_ind\n",
    "from sklearn.linear_model import PoissonRegressor\n",
    "import statsmodels.api as sm\n",
    "from sklearn.decomposition import PCA\n",
    "from imblearn.over_sampling import SMOTE, ADASYN\n",
    "from sklearn.metrics import accuracy_score, f1_score, roc_auc_score,precision_score, recall_score\n",
    "from sklearn.preprocessing import scale\n",
    "from sklearn.cluster import MeanShift, estimate_bandwidth\n",
    "from sklearn.cluster import KMeans\n",
    "from sklearn.cluster import DBSCAN\n",
    "from sklearn import metrics\n",
    "from itertools import cycle\n",
    "%matplotlib inline  "
   ]
  },
  {
   "cell_type": "markdown",
   "metadata": {},
   "source": [
    "<h2>Read the features from file</h2>"
   ]
  },
  {
   "cell_type": "code",
   "execution_count": 6,
   "metadata": {},
   "outputs": [],
   "source": [
    "df = pd.read_csv(\"face_mimic_df.csv\")\n",
    "feats = ['AU_01_t12','AU_06_t12','AU_12_t12','AU_04_t13','AU_07_t13','AU_09_t13','AU_01_t14','AU_02_t14','AU_04_t14']\n",
    "pca = PCA(n_components=3)\n",
    "x_new = pca.fit_transform(df[feats])\n",
    "X = df[feats].dropna()\n",
    "y = df['diagnosed'].dropna()\n",
    "X_resampled, y_resampled = SMOTE().fit_resample(X, y)"
   ]
  },
  {
   "cell_type": "markdown",
   "metadata": {},
   "source": [
    "<h2>Run Statistical Analysis</h2>"
   ]
  },
  {
   "cell_type": "code",
   "execution_count": 7,
   "metadata": {},
   "outputs": [
    {
     "data": {
      "text/html": [
       "<div>\n",
       "<style scoped>\n",
       "    .dataframe tbody tr th:only-of-type {\n",
       "        vertical-align: middle;\n",
       "    }\n",
       "\n",
       "    .dataframe tbody tr th {\n",
       "        vertical-align: top;\n",
       "    }\n",
       "\n",
       "    .dataframe thead th {\n",
       "        text-align: right;\n",
       "    }\n",
       "</style>\n",
       "<table border=\"1\" class=\"dataframe\">\n",
       "  <thead>\n",
       "    <tr style=\"text-align: right;\">\n",
       "      <th></th>\n",
       "      <th>feature</th>\n",
       "      <th>mean PD</th>\n",
       "      <th>mean nPD</th>\n",
       "      <th>sd PD</th>\n",
       "      <th>sd nPD</th>\n",
       "      <th>p</th>\n",
       "      <th>u</th>\n",
       "    </tr>\n",
       "  </thead>\n",
       "  <tbody>\n",
       "    <tr>\n",
       "      <th>0</th>\n",
       "      <td>AU_01_t12</td>\n",
       "      <td>0.145</td>\n",
       "      <td>0.074</td>\n",
       "      <td>0.182</td>\n",
       "      <td>0.119</td>\n",
       "      <td>0.001</td>\n",
       "      <td>11,754.000</td>\n",
       "    </tr>\n",
       "    <tr>\n",
       "      <th>1</th>\n",
       "      <td>AU_06_t12</td>\n",
       "      <td>0.171</td>\n",
       "      <td>0.247</td>\n",
       "      <td>0.152</td>\n",
       "      <td>0.250</td>\n",
       "      <td>0.093</td>\n",
       "      <td>7,409.000</td>\n",
       "    </tr>\n",
       "    <tr>\n",
       "      <th>2</th>\n",
       "      <td>AU_12_t12</td>\n",
       "      <td>0.211</td>\n",
       "      <td>0.273</td>\n",
       "      <td>0.179</td>\n",
       "      <td>0.243</td>\n",
       "      <td>0.131</td>\n",
       "      <td>7,556.000</td>\n",
       "    </tr>\n",
       "    <tr>\n",
       "      <th>3</th>\n",
       "      <td>AU_04_t13</td>\n",
       "      <td>0.187</td>\n",
       "      <td>0.262</td>\n",
       "      <td>0.199</td>\n",
       "      <td>0.316</td>\n",
       "      <td>0.126</td>\n",
       "      <td>7,539.000</td>\n",
       "    </tr>\n",
       "    <tr>\n",
       "      <th>4</th>\n",
       "      <td>AU_07_t13</td>\n",
       "      <td>0.187</td>\n",
       "      <td>0.242</td>\n",
       "      <td>0.205</td>\n",
       "      <td>0.268</td>\n",
       "      <td>0.207</td>\n",
       "      <td>7,774.000</td>\n",
       "    </tr>\n",
       "    <tr>\n",
       "      <th>5</th>\n",
       "      <td>AU_09_t13</td>\n",
       "      <td>0.042</td>\n",
       "      <td>0.041</td>\n",
       "      <td>0.060</td>\n",
       "      <td>0.066</td>\n",
       "      <td>0.534</td>\n",
       "      <td>8,335.000</td>\n",
       "    </tr>\n",
       "    <tr>\n",
       "      <th>6</th>\n",
       "      <td>AU_01_t14</td>\n",
       "      <td>0.279</td>\n",
       "      <td>0.266</td>\n",
       "      <td>0.283</td>\n",
       "      <td>0.317</td>\n",
       "      <td>0.345</td>\n",
       "      <td>9,707.500</td>\n",
       "    </tr>\n",
       "    <tr>\n",
       "      <th>7</th>\n",
       "      <td>AU_02_t14</td>\n",
       "      <td>0.151</td>\n",
       "      <td>0.121</td>\n",
       "      <td>0.288</td>\n",
       "      <td>0.177</td>\n",
       "      <td>0.288</td>\n",
       "      <td>9,811.000</td>\n",
       "    </tr>\n",
       "    <tr>\n",
       "      <th>8</th>\n",
       "      <td>AU_04_t14</td>\n",
       "      <td>0.307</td>\n",
       "      <td>0.398</td>\n",
       "      <td>0.370</td>\n",
       "      <td>0.431</td>\n",
       "      <td>0.122</td>\n",
       "      <td>7,525.000</td>\n",
       "    </tr>\n",
       "  </tbody>\n",
       "</table>\n",
       "</div>"
      ],
      "text/plain": [
       "     feature  mean PD  mean nPD  sd PD  sd nPD     p          u\n",
       "0  AU_01_t12    0.145     0.074  0.182   0.119 0.001 11,754.000\n",
       "1  AU_06_t12    0.171     0.247  0.152   0.250 0.093  7,409.000\n",
       "2  AU_12_t12    0.211     0.273  0.179   0.243 0.131  7,556.000\n",
       "3  AU_04_t13    0.187     0.262  0.199   0.316 0.126  7,539.000\n",
       "4  AU_07_t13    0.187     0.242  0.205   0.268 0.207  7,774.000\n",
       "5  AU_09_t13    0.042     0.041  0.060   0.066 0.534  8,335.000\n",
       "6  AU_01_t14    0.279     0.266  0.283   0.317 0.345  9,707.500\n",
       "7  AU_02_t14    0.151     0.121  0.288   0.177 0.288  9,811.000\n",
       "8  AU_04_t14    0.307     0.398  0.370   0.431 0.122  7,525.000"
      ]
     },
     "execution_count": 7,
     "metadata": {},
     "output_type": "execute_result"
    }
   ],
   "source": [
    "result = dict()\n",
    "result['feature'] = []\n",
    "result['mean PD'] = []\n",
    "result['mean nPD'] = []\n",
    "result['sd PD'] = []\n",
    "result['sd nPD'] = []\n",
    "result['p'] = []\n",
    "result['u'] = []\n",
    "for f in feats:\n",
    "    pd_df = df[df['diagnosed']==1][f].dropna()\n",
    "    npd_df = df[df['diagnosed']==0][f].dropna()\n",
    "    result['feature'].append(f)\n",
    "    result['mean PD'].append(pd_df.mean())\n",
    "    result['mean nPD'].append(npd_df.mean())\n",
    "    result['sd PD'].append(pd_df.std())\n",
    "    result['sd nPD'].append(npd_df.std())\n",
    "    result['u'].append(mannwhitneyu(pd_df,npd_df)[0])\n",
    "    result['p'].append(mannwhitneyu(pd_df,npd_df)[1])\n",
    "result = pd.DataFrame(result)\n",
    "pd.options.display.float_format = \"{:,.3f}\".format\n",
    "result"
   ]
  },
  {
   "cell_type": "markdown",
   "metadata": {},
   "source": [
    "<h2>Linear Regression Analysis</h2>"
   ]
  },
  {
   "cell_type": "code",
   "execution_count": 8,
   "metadata": {},
   "outputs": [
    {
     "name": "stdout",
     "output_type": "stream",
     "text": [
      "Optimization terminated successfully.\n",
      "         Current function value: 0.616670\n",
      "         Iterations: 23\n",
      "         Function evaluations: 24\n",
      "         Gradient evaluations: 24\n",
      "                           Logit Regression Results                           \n",
      "==============================================================================\n",
      "Dep. Variable:                      y   No. Observations:                  960\n",
      "Model:                          Logit   Df Residuals:                      951\n",
      "Method:                           MLE   Df Model:                            8\n",
      "Date:                Sun, 28 May 2023   Pseudo R-squ.:                  0.1103\n",
      "Time:                        12:12:56   Log-Likelihood:                -592.00\n",
      "converged:                       True   LL-Null:                       -665.42\n",
      "Covariance Type:            nonrobust   LLR p-value:                 8.954e-28\n",
      "==============================================================================\n",
      "                 coef    std err          z      P>|z|      [0.025      0.975]\n",
      "------------------------------------------------------------------------------\n",
      "x1             0.5170      0.090      5.771      0.000       0.341       0.693\n",
      "x2            -0.2624      0.092     -2.842      0.004      -0.443      -0.081\n",
      "x3            -0.4707      0.100     -4.701      0.000      -0.667      -0.274\n",
      "x4            -0.3677      0.107     -3.422      0.001      -0.578      -0.157\n",
      "x5            -0.2737      0.096     -2.852      0.004      -0.462      -0.086\n",
      "x6            -0.0707      0.101     -0.703      0.482      -0.268       0.126\n",
      "x7            -0.1273      0.103     -1.240      0.215      -0.329       0.074\n",
      "x8             0.0947      0.085      1.114      0.265      -0.072       0.261\n",
      "x9            -0.1462      0.086     -1.700      0.089      -0.315       0.022\n",
      "==============================================================================\n",
      "9\n"
     ]
    },
    {
     "data": {
      "image/png": "[encoded data removed]",
      "text/plain": [
       "<Figure size 432x288 with 1 Axes>"
      ]
     },
     "metadata": {
      "needs_background": "light"
     },
     "output_type": "display_data"
    }
   ],
   "source": [
    "feats = ['AU_01_t12','AU_06_t12','AU_12_t12','AU_04_t13','AU_07_t13', 'AU_09_t13','AU_01_t14','AU_02_t14','AU_04_t14']\n",
    "X = df[feats].dropna()\n",
    "y = df['diagnosed'].dropna()\n",
    "X = scale(X)\n",
    "y = np.array(y)\n",
    "X_resampled, y_resampled = SMOTE().fit_resample(X, y)\n",
    "results = sm.Logit(y_resampled,X_resampled).fit(method='bfgs')\n",
    "print(results.summary())\n",
    "\n",
    "\n",
    "print(len(results.params))\n",
    "feat_names = ['AU_01 (Smile)*','AU_06 (Smile)','AU_12 (Smile)*','AU_04 (Disgust)*','AU_07 (Disgust)', 'AU_09 (Disgust)',\\\n",
    "              'AU_01 (Surprise)','AU_02 (Surprise)','AU_04 (Surprise)']\n",
    "# define your color sequences as lists\n",
    "color_sequence_1 = ['g', 'b', 'g', 'g', 'g', 'b', 'b', 'b', 'b']\n",
    "color_sequence_2 = ['g', 'g', 'g', 'g', 'b', 'b', 'b', 'b', 'b']\n",
    "\n",
    "plt.bar(np.arange(9),results.params,color = color_sequence_1) \n",
    "plt.bar(np.arange(9),results.params,color = color_sequence_2) \n",
    "plt.xlabel(\"Features\")\n",
    "plt.ylabel(\"Regression Weights\")\n",
    "plt.xticks(np.arange(9),feat_names,rotation=90)\n",
    "plt.savefig(\"Regression_weights.png\",bbox_inches='tight',dpi = 300)\n",
    "plt.show()"
   ]
  },
  {
   "cell_type": "code",
   "execution_count": 23,
   "metadata": {},
   "outputs": [],
   "source": [
    "import os\n",
    "\n",
    "if not os.path.exists('figs'):\n",
    "    os.makedirs('figs')"
   ]
  },
  {
   "cell_type": "markdown",
   "metadata": {},
   "source": [
    "<h2>Clustering Analysis</h2>"
   ]
  },
  {
   "cell_type": "code",
   "execution_count": 24,
   "metadata": {},
   "outputs": [
    {
     "data": {
      "image/png": "[encoded data removed]",
      "text/plain": [
       "<Figure size 432x288 with 1 Axes>"
      ]
     },
     "metadata": {
      "needs_background": "light"
     },
     "output_type": "display_data"
    },
    {
     "data": {
      "image/png": "[encoded data removed]",
      "text/plain": [
       "<Figure size 432x288 with 1 Axes>"
      ]
     },
     "metadata": {
      "needs_background": "light"
     },
     "output_type": "display_data"
    },
    {
     "data": {
      "text/plain": [
       "<Figure size 432x288 with 0 Axes>"
      ]
     },
     "metadata": {},
     "output_type": "display_data"
    }
   ],
   "source": [
    "X = df[feats].dropna()\n",
    "y = df['diagnosed'].dropna()\n",
    "X = scale(X)\n",
    "y = np.array(y)\n",
    "\n",
    "    \n",
    "colors = cycle('bgrcmykbgrcmykbgrcmykbgrcmyk')\n",
    "m = 0\n",
    "t = []\n",
    "pca = PCA(n_components=2)\n",
    "x_new = pca.fit_transform(X)\n",
    "\n",
    "kmeans = KMeans(init= 'k-means++', n_clusters=3, random_state=0).fit(x_new)\n",
    "labels = kmeans.labels_\n",
    "cluster_centers = kmeans.cluster_centers_\n",
    "labels_unique = np.unique(labels)\n",
    "n_clusters_ = len(labels_unique)\n",
    "\n",
    "means = []\n",
    "for k, col in zip(range(n_clusters_), colors):\n",
    "    my_members = labels == k\n",
    "#     print(sum(y[my_members])/(sum(y)),sum(y[my_members]))\n",
    "    means.append(np.mean(X[my_members],axis=0))\n",
    "    cluster_center = cluster_centers[k]\n",
    "    \n",
    "    plt.plot(x_new[my_members, 0], x_new[my_members, 1], col + '.', alpha=0.2)\n",
    "    plt.plot(cluster_center[0], cluster_center[1], 'o', markerfacecolor=col,\n",
    "             markeredgecolor='k', markersize=12,\\\n",
    "             label = \"PD % = \"+str(np.around(sum(y[my_members])/(sum(y) /100),decimals=2))+\" %\")\n",
    "    plt.legend(loc = 'upper right')\n",
    "    plt.savefig('figs/clusters.png',bbox_inches='tight',dpi = 300)\n",
    "plt.show()\n",
    "plt.clf() \n",
    "c = ['g' if i == 0 else 'r' for i in y]\n",
    "plt.scatter(x_new[:,0],x_new[:,1],c = c,alpha=0.2)\n",
    "plt.show()\n",
    "plt.clf()"
   ]
  },
  {
   "cell_type": "markdown",
   "metadata": {},
   "source": [
    "<h2>Classification</h2>"
   ]
  },
  {
   "cell_type": "code",
   "execution_count": 25,
   "metadata": {},
   "outputs": [
    {
     "name": "stdout",
     "output_type": "stream",
     "text": [
      "0.953125 0.9527806925498425 0.953125 0.959830866807611 0.9458333333333333\n"
     ]
    }
   ],
   "source": [
    "from imblearn.over_sampling import SMOTE, ADASYN\n",
    "from sklearn.preprocessing import scale\n",
    "from sklearn import svm\n",
    "from sklearn.model_selection import cross_val_predict\n",
    "from sklearn.metrics import accuracy_score, f1_score, roc_auc_score,precision_score, recall_score\n",
    "from collections import Counter\n",
    "feats = ['AU_01_t12','AU_06_t12','AU_12_t12','AU_04_t13','AU_07_t13', 'AU_09_t13','AU_01_t14','AU_02_t14','AU_04_t14']\n",
    "X = df[feats].dropna()\n",
    "y = df['diagnosed'].dropna()\n",
    "X = scale(X)\n",
    "# print(sum(y)/len(y))\n",
    "y = np.array(y)\n",
    "X_resampled, y_resampled = SMOTE().fit_resample(X, y)\n",
    "best_auc = 0\n",
    "best_f1 = 0\n",
    "best_acc = 0\n",
    "best_pre = 0\n",
    "best_re = 0\n",
    "for c in np.arange(0.1,10,2):\n",
    "    for g in np.arange(0.1,2,0.05):\n",
    "        clf = svm.SVC(kernel = 'rbf', C = c, gamma = g).fit(X_resampled,y_resampled)\n",
    "#         clf = svm.SVC(kernel = 'linear', C = c)\n",
    "        y_pred = cross_val_predict(clf, X_resampled, y_resampled, cv=10)\n",
    "        acc = accuracy_score(y_resampled,y_pred)\n",
    "        auc = roc_auc_score(y_resampled,y_pred)\n",
    "        f1 = f1_score(y_resampled,y_pred)\n",
    "        pre = precision_score(y_resampled,y_pred)\n",
    "        re = recall_score(y_resampled,y_pred)\n",
    "        if (auc>best_auc):\n",
    "            best_auc = auc\n",
    "            best_f1 = f1\n",
    "            best_acc = acc\n",
    "            best_pre = pre\n",
    "            best_re = re\n",
    "print(best_acc, best_f1, best_auc, best_pre, best_re)\n"
   ]
  },
  {
   "cell_type": "code",
   "execution_count": 26,
   "metadata": {
    "scrolled": true
   },
   "outputs": [
    {
     "name": "stdout",
     "output_type": "stream",
     "text": [
      "Please enter your feature data:\n",
      "Enter your AU_01_t12 value: 0.04447698924731183\n",
      "Enter your AU_06_t12 value: 0.02677345016429354\n",
      "Enter your AU_12_t12 value: 0.06346418400876232\n",
      "Enter your AU_04_t13 value: 0.028524668353653863\n",
      "Enter your AU_07_t13 value: 0.09347115832634424\n",
      "Enter your AU_09_t13 value: 0\n",
      "Enter your AU_01_t14 value: 0.010098666666666667\n",
      "Enter your AU_02_t14 value: 0.05515\n",
      "Enter your AU_04_t14 value: 0\n",
      "Based on your inputs, the model predicts that you do not have Parkinson's disease.\n"
     ]
    }
   ],
   "source": [
    "# import libraries\n",
    "from sklearn.preprocessing import StandardScaler\n",
    "\n",
    "# ... continue the rest of your code here ...\n",
    "\n",
    "# After the model has been trained:\n",
    "clf = svm.SVC(kernel = 'rbf', C = c, gamma = g).fit(X_resampled,y_resampled)\n",
    "\n",
    "# User input\n",
    "print(\"Please enter your feature data:\")\n",
    "user_feats = []\n",
    "for feat in feats:\n",
    "    user_feats.append(float(input(f\"Enter your {feat} value: \")))\n",
    "\n",
    "# Preprocess user's data\n",
    "user_feats_scaled = StandardScaler().fit_transform([user_feats])\n",
    "\n",
    "# Make a prediction\n",
    "prediction = clf.predict(user_feats_scaled)\n",
    "\n",
    "# Output the result\n",
    "if prediction[0] == 1:\n",
    "    print(\"Based on your inputs, the model predicts that you have Parkinson's disease.\")\n",
    "else:\n",
    "    print(\"Based on your inputs, the model predicts that you do not have Parkinson's disease.\")\n"
   ]
  },
  {
   "cell_type": "code",
   "execution_count": null,
   "metadata": {},
   "outputs": [],
   "source": []
  },
  {
   "cell_type": "code",
   "execution_count": null,
   "metadata": {},
   "outputs": [],
   "source": [
    "AU01 (Inner Brow Raiser), AU06 (Cheek Raiser), and AU12 (Lip Corner Puller) were found to have three distinct peaks in smiling facial expression videos, thus they are associated with smiling. The disgusted face is associated with AU04 (Brow Lowerer), AU07 (Eye Lid Tightener), and AU09 (Nose Wrinkler); the surprised face is associated with AU01 (Inner Brow Raiser), AU02 (Outer Brow Raiser), and AU04 (Brow Lowerer). Table 2 shows the AUs associated with facial expressions."
   ]
  }
 ],
 "metadata": {
  "kernelspec": {
   "display_name": "Python 3 (ipykernel)",
   "language": "python",
   "name": "python3"
  },
  "language_info": {
   "codemirror_mode": {
    "name": "ipython",
    "version": 3
   },
   "file_extension": ".py",
   "mimetype": "text/x-python",
   "name": "python",
   "nbconvert_exporter": "python",
   "pygments_lexer": "ipython3",
   "version": "3.9.12"
  }
 },
 "nbformat": 4,
 "nbformat_minor": 4
}
